{
  "metadata": {
    "kernelspec": {
      "name": "python",
      "display_name": "Python (Pyodide)",
      "language": "python"
    },
    "language_info": {
      "codemirror_mode": {
        "name": "python",
        "version": 3
      },
      "file_extension": ".py",
      "mimetype": "text/x-python",
      "name": "python",
      "nbconvert_exporter": "python",
      "pygments_lexer": "ipython3",
      "version": "3.8"
    }
  },
  "nbformat_minor": 5,
  "nbformat": 4,
  "cells": [
    {
      "id": "bf1c312a-aa4f-4945-96c4-818753772d9e",
      "cell_type": "markdown",
      "source": "# Título del cuaderno: \"Introducción a la Ciencia de Datos\"",
      "metadata": {}
    },
    {
      "id": "e6169b64-cf04-4442-9814-4a5666c0d913",
      "cell_type": "markdown",
      "source": "## Introducción\nEn este cuaderno se presentará una visión general de la Ciencia de Datos, \nlos lenguajes utilizados, las bibliotecas más comunes, \nasí como algunas herramientas y ejemplos prácticos.",
      "metadata": {}
    },
    {
      "id": "638acc52-2a8c-4fb2-9396-c74c84d60eac",
      "cell_type": "markdown",
      "source": "## Lenguajes de la Ciencia de Datos\nAlgunos lenguajes comúnmente utilizados son:\n1. Python\n2. R\n3. SQL\n4. Julia",
      "metadata": {}
    },
    {
      "id": "71fb3b4c-4c2e-4cf0-8e85-388f939ce305",
      "cell_type": "markdown",
      "source": "## Bibliotecas de Ciencia de Datos en Python\n- **Pandas**: Manipulación y análisis de datos\n- **NumPy**: Cálculo numérico y manejo de arreglos\n- **Matplotlib**: Visualizaciones y gráficos\n- **Seaborn**: Visualizaciones estadísticas\n- **Scikit-learn**: Algoritmos de machine learning\n- **TensorFlow**: Redes neuronales y deep learning\n- **PyTorch**: Redes neuronales y deep learning",
      "metadata": {}
    },
    {
      "id": "b9214a09-f663-4186-be7d-37e49f711f7a",
      "cell_type": "markdown",
      "source": "## Herramientas de Ciencia de Datos\n\n| Herramienta          | Descripción                              |\n|----------------------|------------------------------------------|\n| Jupyter Notebooks    | Entorno interactivo para análisis de datos |\n| RStudio              | IDE para R con soporte en análisis de datos |\n| Apache Zeppelin       | Entorno colaborativo de ciencia de datos  |\n| Visual Studio Code   | Editor multipropósito con extensiones de datos |\n| GitHub               | Plataforma para control de versiones y colaboración |",
      "metadata": {}
    },
    {
      "id": "52aa0856-cb2e-4a8d-ab9c-b609a0c66ab9",
      "cell_type": "markdown",
      "source": "## Ejemplos de Expresiones Aritméticas\n- Suma: 3 + 2 = 5\n- Resta: 5 - 2 = 3\n- Multiplicación: 4 * 3 = 12\n- División: 10 / 2 = 5\n- Potencia: 2^3 = 8",
      "metadata": {}
    },
    {
      "id": "41de8126-eaf1-4013-a4f0-4cdfc057addf",
      "cell_type": "code",
      "source": "# Multiplicar y sumar números\na = 4\nb = 5\nproducto = a * b\nsuma = a + b\n\nprint(\"El producto de\", a, \"y\", b, \"es:\", producto)\nprint(\"La suma de\", a, \"y\", b, \"es:\", suma)",
      "metadata": {
        "trusted": true
      },
      "outputs": [
        {
          "name": "stdout",
          "text": "El producto de 4 y 5 es: 20\nLa suma de 4 y 5 es: 9\n",
          "output_type": "stream"
        }
      ],
      "execution_count": 1
    },
    {
      "id": "fc88077c-0d67-4e7d-82c6-bcfa2326e153",
      "cell_type": "code",
      "source": "# Convertir minutos a horas\nminutos = 200\nhoras = minutos / 60\nprint(minutos, \"minutos equivalen a\", horas, \"horas.\")",
      "metadata": {
        "trusted": true
      },
      "outputs": [
        {
          "name": "stdout",
          "text": "200 minutos equivalen a 3.3333333333333335 horas.\n",
          "output_type": "stream"
        }
      ],
      "execution_count": 2
    },
    {
      "id": "492747c9-84a4-439c-9cb5-5ec45af4b429",
      "cell_type": "code",
      "source": "objetivos = [\"Aprender lenguajes de ciencia de datos\", \"Utilizar bibliotecas especializadas\", \"Implementar pipelines de ML\", \"Visualizar datos de forma efectiva\"]\nfor i, obj in enumerate(objetivos, 1):\n    print(f\"Objetivo {i}: {obj}\")",
      "metadata": {
        "trusted": true
      },
      "outputs": [
        {
          "name": "stdout",
          "text": "Objetivo 1: Aprender lenguajes de ciencia de datos\nObjetivo 2: Utilizar bibliotecas especializadas\nObjetivo 3: Implementar pipelines de ML\nObjetivo 4: Visualizar datos de forma efectiva\n",
          "output_type": "stream"
        }
      ],
      "execution_count": 3
    },
    {
      "id": "95a1ab1d-2e6a-4dcb-8860-25e67fc96d84",
      "cell_type": "code",
      "source": "**Autor:** Daniel Alejandro Rupallán Pérez",
      "metadata": {
        "trusted": true
      },
      "outputs": [],
      "execution_count": null
    }
  ]
}